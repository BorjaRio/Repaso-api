{
 "cells": [
  {
   "cell_type": "markdown",
   "metadata": {},
   "source": [
    "# API PALADINS\n",
    "![Api Paladins](../img/ap.jpg)"
   ]
  },
  {
   "cell_type": "markdown",
   "metadata": {},
   "source": [
    "## ```Welcome to your challenge```\n",
    "\n",
    "You and your teammates have been asigned the role of `api paladins`, mystic knights of the data wars. Brave and knowledgeable, you travel to the furthest corners of the _data_ world in search of the wisdom of fellow paladins. However, they will not share it with anyone, only those who know the right protocol. And sometimes, to get in, you must have the right key.\n",
    "\n",
    "However, fighting the battle is not the end, you must live to tell the tale."
   ]
  },
  {
   "cell_type": "markdown",
   "metadata": {},
   "source": [
    "### The song of a hero\n",
    "\n",
    "Your theme is: `http and API's`\n",
    "The task in this challenge is twofold.\n",
    "Your team must:\n",
    "- Answer the most questions you can.\n",
    "- List **at least** `5` topics of interest (important points) on the theme to guide your 20 min presentation to your fellow students.\n",
    "- Work together and help each other out.\n",
    "\n",
    "_TIP_: Remember to check your topics along the exercise and adjust them accordingly.\n",
    "\n",
    "The team captain will be responsible for putting all the answers together on this notebook and making the pull request before the deadline set with the instructors."
   ]
  },
  {
   "cell_type": "markdown",
   "metadata": {},
   "source": [
    "# IMPORTANT POINTS\n",
    "\n",
    "- \n",
    "- \n",
    "- \n",
    "- \n",
    "- "
   ]
  },
  {
   "cell_type": "markdown",
   "metadata": {},
   "source": [
    "## Questions\n",
    "\n",
    "- What is an API?\n",
    "- What are API's used for?\n",
    "- What is the difference between an API and a web page?\n",
    "- What is the difference between using an API and webscraping?\n",
    "- What is communication protocol used to communicate with API's?\n",
    "- What is the http method we use the most?\n",
    "- What library do we use in python to communicate with an API?"
   ]
  },
  {
   "cell_type": "markdown",
   "metadata": {},
   "source": [
    "![URL](../img/url.png)"
   ]
  },
  {
   "cell_type": "markdown",
   "metadata": {},
   "source": [
    "##### What are the different parts of a url?\n",
    "-  1. \n",
    "-  2. \n",
    "-  3. \n",
    "-  4. \n",
    "- `A.`\n",
    "- `B.`\n",
    "- `C.`"
   ]
  },
  {
   "cell_type": "markdown",
   "metadata": {},
   "source": [
    "Import the libraries we will use to connect to the API."
   ]
  },
  {
   "cell_type": "code",
   "execution_count": 1,
   "metadata": {},
   "outputs": [],
   "source": [
    "import requests\n",
    "from dotenv import load_dotenv\n",
    "import os\n",
    "import re\n",
    "import pandas as pd\n",
    "import numpy as np"
   ]
  },
  {
   "cell_type": "markdown",
   "metadata": {},
   "source": [
    "First of all, lets start with a simple example. Using API's is all about reading the doc's!\n",
    "\n",
    "Check out the [Open Notify](http://open-notify.org/) API. Can you get the name of the people in space and the position of the International Space Station right now?"
   ]
  },
  {
   "cell_type": "code",
   "execution_count": 32,
   "metadata": {},
   "outputs": [],
   "source": [
    "data = requests.get(\"http://api.open-notify.org/astros.json\")"
   ]
  },
  {
   "cell_type": "code",
   "execution_count": 33,
   "metadata": {},
   "outputs": [],
   "source": [
    "gente=data.json()"
   ]
  },
  {
   "cell_type": "code",
   "execution_count": 131,
   "metadata": {},
   "outputs": [
    {
     "data": {
      "text/plain": [
       "dict_keys(['message', 'number', 'people'])"
      ]
     },
     "execution_count": 131,
     "metadata": {},
     "output_type": "execute_result"
    }
   ],
   "source": [
    "gente.keys()"
   ]
  },
  {
   "cell_type": "code",
   "execution_count": 150,
   "metadata": {},
   "outputs": [],
   "source": [
    "personas=gente[\"people\"]"
   ]
  },
  {
   "cell_type": "code",
   "execution_count": 152,
   "metadata": {},
   "outputs": [
    {
     "data": {
      "text/plain": [
       "[{'craft': 'ISS', 'name': 'Sergey Ryzhikov'},\n",
       " {'craft': 'ISS', 'name': 'Kate Rubins'},\n",
       " {'craft': 'ISS', 'name': 'Sergey Kud-Sverchkov'},\n",
       " {'craft': 'ISS', 'name': 'Mike Hopkins'},\n",
       " {'craft': 'ISS', 'name': 'Victor Glover'},\n",
       " {'craft': 'ISS', 'name': 'Shannon Walker'},\n",
       " {'craft': 'ISS', 'name': 'Soichi Noguchi'}]"
      ]
     },
     "execution_count": 152,
     "metadata": {},
     "output_type": "execute_result"
    }
   ],
   "source": [
    "personas"
   ]
  },
  {
   "cell_type": "code",
   "execution_count": 153,
   "metadata": {},
   "outputs": [
    {
     "data": {
      "text/plain": [
       "['Sergey Ryzhikov',\n",
       " 'Kate Rubins',\n",
       " 'Sergey Kud-Sverchkov',\n",
       " 'Mike Hopkins',\n",
       " 'Victor Glover',\n",
       " 'Shannon Walker',\n",
       " 'Soichi Noguchi']"
      ]
     },
     "execution_count": 153,
     "metadata": {},
     "output_type": "execute_result"
    }
   ],
   "source": [
    "[e[\"name\"] for e in personas]"
   ]
  },
  {
   "cell_type": "code",
   "execution_count": 21,
   "metadata": {},
   "outputs": [],
   "source": [
    "data = requests.get(\"http://api.open-notify.org/iss-now.json\")"
   ]
  },
  {
   "cell_type": "code",
   "execution_count": 23,
   "metadata": {},
   "outputs": [],
   "source": [
    "localizacion=data.json()"
   ]
  },
  {
   "cell_type": "code",
   "execution_count": 25,
   "metadata": {},
   "outputs": [
    {
     "data": {
      "text/plain": [
       "{'longitude': '175.0227', 'latitude': '-44.5116'}"
      ]
     },
     "execution_count": 25,
     "metadata": {},
     "output_type": "execute_result"
    }
   ],
   "source": [
    "localizacion[\"iss_position\"]"
   ]
  },
  {
   "cell_type": "markdown",
   "metadata": {},
   "source": [
    "Good. Let's try for a little bit more, can we get a prediction for when the ISS will pass over our campus in Madrid?"
   ]
  },
  {
   "cell_type": "code",
   "execution_count": 28,
   "metadata": {},
   "outputs": [],
   "source": [
    "# Your answer\n",
    "ironhack = \"Paseo de la Chopera, 14 Madrid\""
   ]
  },
  {
   "cell_type": "markdown",
   "metadata": {},
   "source": [
    "Well, we can't acctually do it with the address. We must first convert it into coordinates: latitude and longitude.\n",
    "No problem! We can acctually use an API for this. \n",
    "Let's look at [OpenCageGeocoding](https://opencagedata.com/api).\n",
    "Looks like we need a token to use this API. You can ask for one, it's free and takes no more than a minute.\n",
    "After that, you can convert the address and check the ISS prediction."
   ]
  },
  {
   "cell_type": "code",
   "execution_count": 63,
   "metadata": {},
   "outputs": [
    {
     "data": {
      "text/plain": [
       "True"
      ]
     },
     "execution_count": 63,
     "metadata": {},
     "output_type": "execute_result"
    }
   ],
   "source": [
    "load_dotenv()"
   ]
  },
  {
   "cell_type": "code",
   "execution_count": 64,
   "metadata": {},
   "outputs": [],
   "source": [
    "gh_token = os.getenv(\"tokenkey\")"
   ]
  },
  {
   "cell_type": "code",
   "execution_count": 80,
   "metadata": {},
   "outputs": [],
   "source": [
    "params = {\n",
    "    \"q\":\"ironhack\",\n",
    "    \"appid\":os.getenv(\"tokenkey\")\n",
    "}\n",
    "url = f\"https://api.opencagedata.com/geocode/v1/json?q={ironhack}&key={gh_token}\"\n",
    "a=requests.get(url,params=params).json()"
   ]
  },
  {
   "cell_type": "markdown",
   "metadata": {},
   "source": [
    "Do not forget your API key is like a password and should be protected? What tools do you use for that?\n",
    "\n",
    "- Why do some API's have keys or user+secret?\n",
    "- How do you manage the query parameters and how do you send them through requests?\n",
    "\n",
    "_Remember_: Each API is it's own universe. It depends on how each one was programmed, so we always have to play detective and investigate the docummentation.\n",
    "\n",
    "Check out the doc on the [ImgFlip API](https://imgflip.com/api). \n",
    "\n",
    "Try both endpoints. You should:\n",
    "\n",
    "- Choose a random meme out of the 100 one of the endpoints returns.\n",
    "- Try out the other endpoint and caption a few memes of your choice. \n",
    "\n",
    "_HINT:_ To display images on markdown, you should use the following syntax:\n",
    "```markdown\n",
    "![alt_text](image_url)\n",
    "```"
   ]
  },
  {
   "cell_type": "code",
   "execution_count": 84,
   "metadata": {},
   "outputs": [
    {
     "data": {
      "text/plain": [
       "dict_keys(['documentation', 'licenses', 'rate', 'results', 'status', 'stay_informed', 'thanks', 'timestamp', 'total_results'])"
      ]
     },
     "execution_count": 84,
     "metadata": {},
     "output_type": "execute_result"
    }
   ],
   "source": [
    "a.keys()"
   ]
  },
  {
   "cell_type": "code",
   "execution_count": 93,
   "metadata": {},
   "outputs": [
    {
     "data": {
      "text/plain": [
       "{'lat': \"40° 23' 29.21820'' N\", 'lng': \"3° 41' 46.72140'' W\"}"
      ]
     },
     "execution_count": 93,
     "metadata": {},
     "output_type": "execute_result"
    }
   ],
   "source": [
    "localizacion=a[\"results\"][0][\"annotations\"][\"DMS\"]"
   ]
  },
  {
   "cell_type": "code",
   "execution_count": 127,
   "metadata": {},
   "outputs": [],
   "source": [
    "lat=\"40.232921820\"\n",
    "lng= \"3.414672140\""
   ]
  },
  {
   "cell_type": "code",
   "execution_count": 128,
   "metadata": {},
   "outputs": [],
   "source": [
    "url=\"http://api.open-notify.org/iss-pass.json?lat=LAT&lon=LON\""
   ]
  },
  {
   "cell_type": "code",
   "execution_count": 129,
   "metadata": {},
   "outputs": [],
   "source": [
    "url = f\"http://api.open-notify.org/iss-pass.json?lat={lat}&lon={lng}\"\n",
    "b=requests.get(url,params=params).json()"
   ]
  },
  {
   "cell_type": "code",
   "execution_count": 130,
   "metadata": {},
   "outputs": [
    {
     "data": {
      "text/plain": [
       "{'message': 'success',\n",
       " 'request': {'altitude': 100,\n",
       "  'datetime': 1606603177,\n",
       "  'latitude': 40.23292182,\n",
       "  'longitude': 3.41467214,\n",
       "  'passes': 5},\n",
       " 'response': [{'duration': 110, 'risetime': 1606606912},\n",
       "  {'duration': 547, 'risetime': 1606655317},\n",
       "  {'duration': 653, 'risetime': 1606661049},\n",
       "  {'duration': 589, 'risetime': 1606666918},\n",
       "  {'duration': 551, 'risetime': 1606672809}]}"
      ]
     },
     "execution_count": 130,
     "metadata": {},
     "output_type": "execute_result"
    }
   ],
   "source": [
    "b"
   ]
  },
  {
   "cell_type": "markdown",
   "metadata": {},
   "source": [
    "### Discussion topics\n",
    "\n",
    "The following are a few questions and points you should debate and think about with your teammates.\n",
    "\n",
    "- What is your favourite API?\n",
    "- What kind of possibilities do you imagine API's allow?\n",
    "- If you could design any API, what would it be?\n",
    "- What are some pros and cons of using API's vs using a dataset you downloaded (a csv, for example)?\n",
    "- How do API's affect the work of a data analyst/scientist?\n",
    "- What can we do to make easier the process of having to read so much docummentation?"
   ]
  },
  {
   "cell_type": "markdown",
   "metadata": {},
   "source": [
    "#### Extra\n",
    "[Another list of public API's](https://apilist.fun/)"
   ]
  }
 ],
 "metadata": {
  "kernelspec": {
   "display_name": "Python 3",
   "language": "python",
   "name": "python3"
  },
  "language_info": {
   "codemirror_mode": {
    "name": "ipython",
    "version": 3
   },
   "file_extension": ".py",
   "mimetype": "text/x-python",
   "name": "python",
   "nbconvert_exporter": "python",
   "pygments_lexer": "ipython3",
   "version": "3.8.3"
  }
 },
 "nbformat": 4,
 "nbformat_minor": 4
}
